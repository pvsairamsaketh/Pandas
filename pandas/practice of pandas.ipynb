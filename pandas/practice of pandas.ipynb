{
 "cells": [
  {
   "cell_type": "code",
   "execution_count": 2,
   "id": "f8ae2d59",
   "metadata": {},
   "outputs": [
    {
     "name": "stdout",
     "output_type": "stream",
     "text": [
      "cars            [BMW, MERCEDES, AUDI]\n",
      "bikes    [HARDLEY, HAYABHUSA, DUKATI]\n",
      "dtype: object\n",
      "<class 'pandas.core.series.Series'>\n"
     ]
    }
   ],
   "source": [
    "import pandas as pd\n",
    "dataset={\n",
    "    'cars':[\"BMW\",\"MERCEDES\",\"AUDI\"],\n",
    "    'bikes':[\"HARDLEY\",\"HAYABHUSA\",\"DUKATI\"]\n",
    "}\n",
    "var=pd.Series(dataset)\n",
    "print(var)\n",
    "print(type(var))"
   ]
  },
  {
   "cell_type": "markdown",
   "id": "7e075eef",
   "metadata": {},
   "source": [
    "# creating empty set"
   ]
  },
  {
   "cell_type": "code",
   "execution_count": 3,
   "id": "8e3a4c09",
   "metadata": {},
   "outputs": [
    {
     "name": "stdout",
     "output_type": "stream",
     "text": [
      "Series([], dtype: float64)\n"
     ]
    },
    {
     "name": "stderr",
     "output_type": "stream",
     "text": [
      "C:\\Users\\admin\\AppData\\Local\\Temp\\ipykernel_6400\\3460033404.py:2: FutureWarning: The default dtype for empty Series will be 'object' instead of 'float64' in a future version. Specify a dtype explicitly to silence this warning.\n",
      "  x=pd.Series()\n"
     ]
    }
   ],
   "source": [
    "import pandas as pd\n",
    "x=pd.Series()\n",
    "print(x)"
   ]
  },
  {
   "cell_type": "markdown",
   "id": "a94eae8d",
   "metadata": {},
   "source": [
    "# checking pandas version"
   ]
  },
  {
   "cell_type": "code",
   "execution_count": 4,
   "id": "df6262de",
   "metadata": {},
   "outputs": [
    {
     "name": "stdout",
     "output_type": "stream",
     "text": [
      "1.4.4\n"
     ]
    }
   ],
   "source": [
    "import pandas as pd\n",
    "print(pd.__version__)"
   ]
  },
  {
   "cell_type": "markdown",
   "id": "cb9126ea",
   "metadata": {},
   "source": [
    "# series"
   ]
  },
  {
   "cell_type": "markdown",
   "id": "cf4e8add",
   "metadata": {},
   "source": [
    "# using lists"
   ]
  },
  {
   "cell_type": "code",
   "execution_count": 7,
   "id": "45dfd2da",
   "metadata": {},
   "outputs": [
    {
     "name": "stdout",
     "output_type": "stream",
     "text": [
      "0    1\n",
      "1    2\n",
      "2    3\n",
      "dtype: int64\n",
      "<class 'pandas.core.series.Series'>\n",
      "2\n"
     ]
    }
   ],
   "source": [
    "import pandas as pd\n",
    "a=[1,2,3]\n",
    "var=pd.Series(a)\n",
    "print(var)\n",
    "print(type(var))\n",
    "\n",
    "#TO ACCESS VALUE USE INDEX FORMAT\n",
    "print(var[1])"
   ]
  },
  {
   "cell_type": "markdown",
   "id": "9e038fc6",
   "metadata": {},
   "source": [
    "# changing the index value "
   ]
  },
  {
   "cell_type": "code",
   "execution_count": 10,
   "id": "77f0bc6e",
   "metadata": {},
   "outputs": [
    {
     "name": "stdout",
     "output_type": "stream",
     "text": [
      "A    1\n",
      "B    2\n",
      "C    3\n",
      "dtype: int64\n",
      "<class 'pandas.core.series.Series'>\n",
      "2\n"
     ]
    }
   ],
   "source": [
    "import pandas as pd\n",
    "a=[1,2,3]\n",
    "var=pd.Series(a,index=[\"A\",\"B\",\"C\"])\n",
    "print(var)\n",
    "print(type(var))\n",
    "print(var[\"B\"])"
   ]
  },
  {
   "cell_type": "markdown",
   "id": "88219912",
   "metadata": {},
   "source": [
    "# changing the datatype"
   ]
  },
  {
   "cell_type": "code",
   "execution_count": 11,
   "id": "6793fa4e",
   "metadata": {},
   "outputs": [
    {
     "name": "stdout",
     "output_type": "stream",
     "text": [
      "a    3.0\n",
      "b    4.0\n",
      "c    5.0\n",
      "d    6.0\n",
      "dtype: float64\n",
      "<class 'pandas.core.series.Series'>\n",
      "5.0\n"
     ]
    }
   ],
   "source": [
    "import pandas as pd\n",
    "x=[3,4,5,6]\n",
    "var=pd.Series(x,index=[\"a\",\"b\",\"c\",\"d\"],dtype=\"float\")\n",
    "print(var)\n",
    "print(type(var))\n",
    "print(var[2])"
   ]
  },
  {
   "cell_type": "markdown",
   "id": "99073b7d",
   "metadata": {},
   "source": [
    "# writing the name of the data uding name\n"
   ]
  },
  {
   "cell_type": "code",
   "execution_count": 15,
   "id": "0adaf377",
   "metadata": {},
   "outputs": [
    {
     "name": "stdout",
     "output_type": "stream",
     "text": [
      "a    3.0\n",
      "b    4.0\n",
      "c    5.0\n",
      "d    6.0\n",
      "Name: Python, dtype: float64\n",
      "<class 'pandas.core.series.Series'>\n",
      "4.0\n",
      "above and below are same  4.0\n"
     ]
    }
   ],
   "source": [
    "import pandas as pd\n",
    "x=[3,4,5,6]\n",
    "var=pd.Series(x,index=[\"a\",\"b\",\"c\",\"d\"],dtype=\"float\",name=\"Python\")\n",
    "print(var)\n",
    "print(type(var))\n",
    "print(var[1])\n",
    "print(\"above and below are same \",var[\"b\"])"
   ]
  },
  {
   "cell_type": "code",
   "execution_count": 16,
   "id": "e5b1300a",
   "metadata": {},
   "outputs": [
    {
     "name": "stdout",
     "output_type": "stream",
     "text": [
      "name    [Python, c, c++, java]\n",
      "por           [12, 13, 14, 15]\n",
      "rank              [1, 4, 3, 2]\n",
      "dtype: object\n",
      "<class 'pandas.core.series.Series'>\n"
     ]
    }
   ],
   "source": [
    "dic={\"name\":[\"Python\",\"c\",\"c++\",\"java\"],\n",
    "    \"por\":[12,13,14,15],\n",
    "    \"rank\":[1,4,3,2]}\n",
    "var=pd.Series(dic)\n",
    "print(var)\n",
    "print(type(var))"
   ]
  },
  {
   "cell_type": "code",
   "execution_count": 18,
   "id": "42671096",
   "metadata": {},
   "outputs": [
    {
     "name": "stdout",
     "output_type": "stream",
     "text": [
      "name    [Python, c, c++, java]\n",
      "por           [12, 13, 14, 15]\n",
      "rank              [1, 4, 3, 2]\n",
      "dtype: object\n",
      "<class 'pandas.core.series.Series'>\n"
     ]
    }
   ],
   "source": [
    "dic={\"name\":[\"Python\",\"c\",\"c++\",\"java\"],\n",
    "    \"por\":[\"12\",\"13\",\"14\",\"15\"],\n",
    "    \"rank\":[\"1\",\"4\",\"3\",\"2\"]}\n",
    "var=pd.Series(dic)\n",
    "print(var)\n",
    "print(type(var))"
   ]
  },
  {
   "cell_type": "markdown",
   "id": "0ce79139",
   "metadata": {},
   "source": [
    "# using single data"
   ]
  },
  {
   "cell_type": "code",
   "execution_count": 19,
   "id": "17017a1a",
   "metadata": {},
   "outputs": [
    {
     "name": "stdout",
     "output_type": "stream",
     "text": [
      "0    12\n",
      "dtype: int64\n",
      "<class 'pandas.core.series.Series'>\n"
     ]
    }
   ],
   "source": [
    "var=pd.Series(12)\n",
    "print(var)\n",
    "print(type(var))"
   ]
  },
  {
   "cell_type": "code",
   "execution_count": 20,
   "id": "1fdb81f5",
   "metadata": {},
   "outputs": [
    {
     "name": "stdout",
     "output_type": "stream",
     "text": [
      "1    12\n",
      "2    12\n",
      "3    12\n",
      "4    12\n",
      "5    12\n",
      "dtype: int64\n",
      "<class 'pandas.core.series.Series'>\n"
     ]
    }
   ],
   "source": [
    "#to form multiple series using single indexing pass indexing\n",
    "var=pd.Series(12,index=[1,2,3,4,5])\n",
    "print(var)\n",
    "print(type(var))"
   ]
  },
  {
   "cell_type": "code",
   "execution_count": 26,
   "id": "98fbef85",
   "metadata": {},
   "outputs": [
    {
     "name": "stdout",
     "output_type": "stream",
     "text": [
      "1    144.0\n",
      "2    144.0\n",
      "3    144.0\n",
      "4      NaN\n",
      "5      NaN\n",
      "dtype: float64\n"
     ]
    }
   ],
   "source": [
    "#in pandas broadcasting not required\n",
    "var=pd.Series(12,index=[1,2,3,4,5])\n",
    "var1=pd.Series(12,index=[1,2,3])\n",
    "print(var*var1)\n"
   ]
  },
  {
   "cell_type": "markdown",
   "id": "e7a04466",
   "metadata": {},
   "source": [
    "# practice questions for pandas\n"
   ]
  },
  {
   "cell_type": "code",
   "execution_count": 27,
   "id": "01cf9d85",
   "metadata": {},
   "outputs": [
    {
     "name": "stdout",
     "output_type": "stream",
     "text": [
      "a    3.0\n",
      "b    4.0\n",
      "c    5.0\n",
      "d    6.0\n",
      "Name: Python, dtype: float64\n",
      "\n",
      "[3.0, 4.0, 5.0, 6.0]\n",
      "<class 'list'>\n"
     ]
    }
   ],
   "source": [
    "#Convert a Panda module Series to Python list and it’s type\n",
    "x=[3,4,5,6]\n",
    "var=pd.Series(x,index=[\"a\",\"b\",\"c\",\"d\"],dtype=\"float\",name=\"Python\")\n",
    "print(var)\n",
    "print()\n",
    "print(var.tolist())\n",
    "print(type(var.tolist()))"
   ]
  },
  {
   "cell_type": "code",
   "execution_count": 32,
   "id": "da4ba9f7",
   "metadata": {},
   "outputs": [
    {
     "name": "stdout",
     "output_type": "stream",
     "text": [
      "a    1\n",
      "b    2\n",
      "c    3\n",
      "d    4\n",
      "dtype: int64\n",
      "<class 'pandas.core.series.Series'>\n"
     ]
    }
   ],
   "source": [
    "#Create and display a one-dimensional array-like object containing an array of data\n",
    "x=[1,2,3,4]\n",
    "var=pd.Series(x,index=[\"a\",\"b\",\"c\",\"d\"])\n",
    "print(var)\n",
    "print(type(var))"
   ]
  },
  {
   "cell_type": "code",
   "execution_count": 34,
   "id": "1b4cc996",
   "metadata": {},
   "outputs": [
    {
     "name": "stdout",
     "output_type": "stream",
     "text": [
      "1    24\n",
      "2    24\n",
      "3    24\n",
      "4    24\n",
      "5    24\n",
      "dtype: int64\n",
      "1    0\n",
      "2    0\n",
      "3    0\n",
      "4    0\n",
      "5    0\n",
      "dtype: int64\n",
      "1    144\n",
      "2    144\n",
      "3    144\n",
      "4    144\n",
      "5    144\n",
      "dtype: int64\n",
      "1    1.0\n",
      "2    1.0\n",
      "3    1.0\n",
      "4    1.0\n",
      "5    1.0\n",
      "dtype: float64\n",
      "1    0\n",
      "2    0\n",
      "3    0\n",
      "4    0\n",
      "5    0\n",
      "dtype: int64\n",
      "1    8916100448256\n",
      "2    8916100448256\n",
      "3    8916100448256\n",
      "4    8916100448256\n",
      "5    8916100448256\n",
      "dtype: int64\n",
      "1    1\n",
      "2    1\n",
      "3    1\n",
      "4    1\n",
      "5    1\n",
      "dtype: int64\n"
     ]
    }
   ],
   "source": [
    "#Write a Pandas program to add, subtract, multiple and divide two Pandas Series.\n",
    "var=pd.Series(12,index=[1,2,3,4,5])\n",
    "var1=pd.Series(12,index=[1,2,3,4,5])\n",
    "print(var+var1)\n",
    "print(var-var1)\n",
    "print(var*var1)\n",
    "print(var/var1)\n",
    "print(var%var1)\n",
    "print(var**var1)\n",
    "print(var//var1)"
   ]
  },
  {
   "cell_type": "code",
   "execution_count": 37,
   "id": "338a369c",
   "metadata": {},
   "outputs": [
    {
     "name": "stdout",
     "output_type": "stream",
     "text": [
      "0    1\n",
      "1    2\n",
      "2    3\n",
      "3    4\n",
      "4    5\n",
      "dtype: int64\n",
      "0     6\n",
      "1     7\n",
      "2     8\n",
      "3     9\n",
      "4    10\n",
      "dtype: int64\n",
      "equal :\n",
      "0    False\n",
      "1    False\n",
      "2    False\n",
      "3    False\n",
      "4    False\n",
      "dtype: bool\n",
      "less than :\n",
      "0    True\n",
      "1    True\n",
      "2    True\n",
      "3    True\n",
      "4    True\n",
      "dtype: bool\n",
      "greater than :\n",
      "0    False\n",
      "1    False\n",
      "2    False\n",
      "3    False\n",
      "4    False\n",
      "dtype: bool\n"
     ]
    }
   ],
   "source": [
    "#Compare the elements of the two Pandas Series\n",
    "var=pd.Series([1,2,3,4,5])\n",
    "var1=pd.Series([6,7,8,9,10])\n",
    "print(var)\n",
    "print(var1)\n",
    "print(\"equal :\")\n",
    "print(var==var1)\n",
    "print(\"less than :\")\n",
    "print(var<var1)\n",
    "print(\"greater than :\")\n",
    "print(var>var1)"
   ]
  },
  {
   "cell_type": "code",
   "execution_count": 41,
   "id": "e9900de3",
   "metadata": {},
   "outputs": [
    {
     "name": "stdout",
     "output_type": "stream",
     "text": [
      "{'a': [1, 2, 3, 4, 5], 'b': [6, 7, 8, 9, 10], 'c': [11, 12, 13, 14, 15]}\n",
      "<class 'dict'>\n",
      "\n",
      "a         (1, 2, 3, 4, 5)\n",
      "b        (6, 7, 8, 9, 10)\n",
      "c    (11, 12, 13, 14, 15)\n",
      "dtype: object\n",
      "<class 'pandas.core.series.Series'>\n"
     ]
    }
   ],
   "source": [
    "#Write a Pandas program to convert a dictionary to a Pandas series.\n",
    "dic={\"a\":[1,2,3,4,5],\n",
    "     \"b\":[6,7,8,9,10],\n",
    "     \"c\":[11,12,13,14,15]}\n",
    "print(dic)\n",
    "print(type(dic))\n",
    "print()\n",
    "var=pd.Series(dic,dtype=\"float\")\n",
    "print(var)\n",
    "print(type(var))"
   ]
  },
  {
   "cell_type": "code",
   "execution_count": 42,
   "id": "f9e38d79",
   "metadata": {},
   "outputs": [
    {
     "name": "stdout",
     "output_type": "stream",
     "text": [
      "[1 2 3 4 5]\n",
      "<class 'numpy.ndarray'>\n",
      "0    1\n",
      "1    2\n",
      "2    3\n",
      "3    4\n",
      "4    5\n",
      "dtype: int32\n",
      "<class 'pandas.core.series.Series'>\n"
     ]
    }
   ],
   "source": [
    "#Write a Pandas program to convert a NumPy array to a Pandas series.\n",
    "import pandas as pd\n",
    "import numpy as np\n",
    "np_array=np.array([1,2,3,4,5])\n",
    "print(np_array)\n",
    "print(type(np_array))\n",
    "pd_array=pd.Series(np_array)\n",
    "print(pd_array)\n",
    "print(type(pd_array))"
   ]
  },
  {
   "cell_type": "code",
   "execution_count": 44,
   "id": "ff6c467b",
   "metadata": {},
   "outputs": [
    {
     "name": "stdout",
     "output_type": "stream",
     "text": [
      "0    1\n",
      "1    2\n",
      "2    3\n",
      "3    4\n",
      "4    5\n",
      "dtype: int64\n",
      "<class 'pandas.core.series.Series'>\n",
      "0    1.0\n",
      "1    2.0\n",
      "2    3.0\n",
      "3    4.0\n",
      "4    5.0\n",
      "dtype: float64\n",
      "<class 'pandas.core.series.Series'>\n"
     ]
    }
   ],
   "source": [
    "#Write a Pandas program to change the data type of given a column or a Series.\n",
    "import pandas as pd\n",
    "x=[1,2,3,4,5]\n",
    "pd_array=pd.Series(x)\n",
    "print(pd_array)\n",
    "print(type(pd_array))\n",
    "var=pd.Series(pd_array,dtype=\"float\")\n",
    "print(var)\n",
    "print(type(var))"
   ]
  },
  {
   "cell_type": "code",
   "execution_count": null,
   "id": "1506a378",
   "metadata": {},
   "outputs": [],
   "source": []
  }
 ],
 "metadata": {
  "kernelspec": {
   "display_name": "Python 3 (ipykernel)",
   "language": "python",
   "name": "python3"
  },
  "language_info": {
   "codemirror_mode": {
    "name": "ipython",
    "version": 3
   },
   "file_extension": ".py",
   "mimetype": "text/x-python",
   "name": "python",
   "nbconvert_exporter": "python",
   "pygments_lexer": "ipython3",
   "version": "3.9.13"
  }
 },
 "nbformat": 4,
 "nbformat_minor": 5
}
