{
 "cells": [
  {
   "cell_type": "markdown",
   "id": "455ea033",
   "metadata": {},
   "source": [
    "# empty series"
   ]
  },
  {
   "cell_type": "code",
   "execution_count": 2,
   "id": "1d37b4a8",
   "metadata": {},
   "outputs": [
    {
     "name": "stdout",
     "output_type": "stream",
     "text": [
      "Series([], dtype: float64)\n"
     ]
    },
    {
     "name": "stderr",
     "output_type": "stream",
     "text": [
      "C:\\Users\\hp\\AppData\\Local\\Temp\\ipykernel_12448\\684786497.py:2: FutureWarning: The default dtype for empty Series will be 'object' instead of 'float64' in a future version. Specify a dtype explicitly to silence this warning.\n",
      "  a=pd.Series()\n"
     ]
    }
   ],
   "source": [
    "import pandas as pd\n",
    "a=pd.Series()\n",
    "print(a)"
   ]
  },
  {
   "cell_type": "markdown",
   "id": "41dbc386",
   "metadata": {},
   "source": [
    "# using jupiter notebook series"
   ]
  },
  {
   "cell_type": "code",
   "execution_count": 3,
   "id": "f39ac586",
   "metadata": {},
   "outputs": [
    {
     "name": "stdout",
     "output_type": "stream",
     "text": [
      "0    3\n",
      "1    4\n",
      "2    5\n",
      "3    6\n",
      "dtype: int64\n",
      "<class 'pandas.core.series.Series'>\n",
      "5\n"
     ]
    }
   ],
   "source": [
    "import pandas as pd\n",
    "x=[3,4,5,6]\n",
    "var=pd.Series(x)\n",
    "print(var)\n",
    "print(type(var))\n",
    "#to get values\n",
    "print(var[2])"
   ]
  },
  {
   "cell_type": "markdown",
   "id": "36b7913b",
   "metadata": {},
   "source": [
    "# to change index no"
   ]
  },
  {
   "cell_type": "code",
   "execution_count": 4,
   "id": "35233701",
   "metadata": {},
   "outputs": [
    {
     "name": "stdout",
     "output_type": "stream",
     "text": [
      "a    3\n",
      "s    4\n",
      "d    5\n",
      "f    6\n",
      "dtype: int64\n",
      "<class 'pandas.core.series.Series'>\n",
      "5\n"
     ]
    }
   ],
   "source": [
    "import pandas as pd\n",
    "x=[3,4,5,6]\n",
    "var=pd.Series(x,index=['a','s','d','f'])\n",
    "print(var)\n",
    "print(type(var))\n",
    "print(var[2])\n"
   ]
  },
  {
   "cell_type": "markdown",
   "id": "a15cc054",
   "metadata": {},
   "source": [
    "# to change type of data"
   ]
  },
  {
   "cell_type": "code",
   "execution_count": 5,
   "id": "adc03666",
   "metadata": {},
   "outputs": [
    {
     "name": "stdout",
     "output_type": "stream",
     "text": [
      "a    3.0\n",
      "s    4.0\n",
      "d    5.0\n",
      "f    6.0\n",
      "dtype: float64\n",
      "<class 'pandas.core.series.Series'>\n",
      "5.0\n"
     ]
    }
   ],
   "source": [
    "import pandas as pd\n",
    "x=[3,4,5,6]\n",
    "var=pd.Series(x,index=['a','s','d','f'],dtype=\"float\")\n",
    "print(var)\n",
    "print(type(var))\n",
    "print(var[2])"
   ]
  },
  {
   "cell_type": "markdown",
   "id": "453e0f10",
   "metadata": {},
   "source": [
    "# name of data can also be given in pandas"
   ]
  },
  {
   "cell_type": "code",
   "execution_count": 6,
   "id": "dee004ec",
   "metadata": {},
   "outputs": [
    {
     "name": "stdout",
     "output_type": "stream",
     "text": [
      "a    3.0\n",
      "s    4.0\n",
      "d    5.0\n",
      "f    6.0\n",
      "Name: Python, dtype: float64\n",
      "<class 'pandas.core.series.Series'>\n",
      "5.0\n"
     ]
    }
   ],
   "source": [
    "import pandas as pd\n",
    "x=[3,4,5,6]\n",
    "var=pd.Series(x,index=['a','s','d','f'],dtype=\"float\",name=\"Python\")\n",
    "print(var)\n",
    "print(type(var))\n",
    "print(var[2])"
   ]
  },
  {
   "cell_type": "markdown",
   "id": "a77cfcd4",
   "metadata": {},
   "source": [
    "# using dictionaries"
   ]
  },
  {
   "cell_type": "code",
   "execution_count": 7,
   "id": "00b21d71",
   "metadata": {},
   "outputs": [
    {
     "name": "stdout",
     "output_type": "stream",
     "text": [
      "name    [Python, C, C++, Java]\n",
      "por           [12, 13, 14, 15]\n",
      "rank              [1, 4, 3, 2]\n",
      "dtype: object\n",
      "<class 'pandas.core.series.Series'>\n"
     ]
    }
   ],
   "source": [
    "dic={\"name\":['Python','C','C++','Java'],\n",
    "     \"por\":[12,13,14,15],\n",
    "     \"rank\":[1,4,3,2]\n",
    "    }\n",
    "var=pd.Series(dic)\n",
    "print(var)\n",
    "print(type(var))"
   ]
  },
  {
   "cell_type": "markdown",
   "id": "7abcc4f6",
   "metadata": {},
   "source": [
    "# using single data"
   ]
  },
  {
   "cell_type": "code",
   "execution_count": 8,
   "id": "e08964a5",
   "metadata": {},
   "outputs": [
    {
     "name": "stdout",
     "output_type": "stream",
     "text": [
      "0    12\n",
      "dtype: int64\n",
      "<class 'pandas.core.series.Series'>\n"
     ]
    }
   ],
   "source": [
    "var=pd.Series(12)\n",
    "print(var)\n",
    "print(type(var))\n"
   ]
  },
  {
   "cell_type": "markdown",
   "id": "eab91915",
   "metadata": {},
   "source": [
    "# to form multiple series"
   ]
  },
  {
   "cell_type": "code",
   "execution_count": 9,
   "id": "ecc91dec",
   "metadata": {},
   "outputs": [
    {
     "name": "stdout",
     "output_type": "stream",
     "text": [
      "1    12\n",
      "2    12\n",
      "3    12\n",
      "4    12\n",
      "dtype: int64\n",
      "<class 'pandas.core.series.Series'>\n"
     ]
    }
   ],
   "source": [
    "var=pd.Series(12,index=[1,2,3,4])\n",
    "print(var)\n",
    "print(type(var))"
   ]
  },
  {
   "cell_type": "markdown",
   "id": "16ff578a",
   "metadata": {},
   "source": [
    "# broadcasting"
   ]
  },
  {
   "cell_type": "code",
   "execution_count": 10,
   "id": "264dd1e1",
   "metadata": {},
   "outputs": [
    {
     "name": "stdout",
     "output_type": "stream",
     "text": [
      "1    24.0\n",
      "2    24.0\n",
      "3    24.0\n",
      "4     NaN\n",
      "5     NaN\n",
      "dtype: float64\n"
     ]
    }
   ],
   "source": [
    "s=pd.Series(12,index=[1,2,3,4,5])\n",
    "s1=pd.Series(12,index=[1,2,3])\n",
    "print(s+s1)"
   ]
  },
  {
   "cell_type": "markdown",
   "id": "78d29fab",
   "metadata": {},
   "source": [
    "# to convert pandas series into list"
   ]
  },
  {
   "cell_type": "code",
   "execution_count": 11,
   "id": "1f0e1867",
   "metadata": {},
   "outputs": [
    {
     "name": "stdout",
     "output_type": "stream",
     "text": [
      "0    3\n",
      "1    4\n",
      "2    5\n",
      "3    6\n",
      "dtype: int64\n",
      "\n",
      "[3, 4, 5, 6]\n",
      "<class 'list'>\n"
     ]
    }
   ],
   "source": [
    "x=[3,4,5,6]\n",
    "var=pd.Series(x)\n",
    "print(var)\n",
    "print()\n",
    "print(var.tolist())\n",
    "print(type(var.tolist()))"
   ]
  },
  {
   "cell_type": "code",
   "execution_count": null,
   "id": "43cd7544",
   "metadata": {},
   "outputs": [],
   "source": []
  }
 ],
 "metadata": {
  "kernelspec": {
   "display_name": "Python 3 (ipykernel)",
   "language": "python",
   "name": "python3"
  },
  "language_info": {
   "codemirror_mode": {
    "name": "ipython",
    "version": 3
   },
   "file_extension": ".py",
   "mimetype": "text/x-python",
   "name": "python",
   "nbconvert_exporter": "python",
   "pygments_lexer": "ipython3",
   "version": "3.9.13"
  }
 },
 "nbformat": 4,
 "nbformat_minor": 5
}
