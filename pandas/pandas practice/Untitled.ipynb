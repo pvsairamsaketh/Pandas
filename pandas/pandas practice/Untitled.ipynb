{
 "cells": [
  {
   "cell_type": "code",
   "execution_count": 11,
   "id": "2ec74c1a",
   "metadata": {},
   "outputs": [
    {
     "name": "stdout",
     "output_type": "stream",
     "text": [
      "   a  b  c\n",
      "0  1  1  1\n",
      "1  2  2  2\n",
      "2  3  3  3\n",
      "3  4  4  4\n",
      "4  5  5  5\n"
     ]
    }
   ],
   "source": [
    "import pandas as pd\n",
    "#step1 - create dataframe\n",
    "dis={\"a\":[1,2,3,4,5],\"b\":[1,2,3,4,5],\"c\":[1,2,3,4,5]}\n",
    "d=pd.DataFrame(dis)\n",
    "print(d)\n",
    "#step2 - create csv file - d.to_csv(\"nameofcsvfile.csv\")\n",
    "d.to_csv(\"test_new1.csv\",index=False)\n",
    "d.to_csv(\"test_new3.csv\",index=False,header=[\"p\",\"q\",\"r\"])"
   ]
  },
  {
   "cell_type": "code",
   "execution_count": null,
   "id": "90752c08",
   "metadata": {},
   "outputs": [],
   "source": []
  }
 ],
 "metadata": {
  "kernelspec": {
   "display_name": "Python 3 (ipykernel)",
   "language": "python",
   "name": "python3"
  },
  "language_info": {
   "codemirror_mode": {
    "name": "ipython",
    "version": 3
   },
   "file_extension": ".py",
   "mimetype": "text/x-python",
   "name": "python",
   "nbconvert_exporter": "python",
   "pygments_lexer": "ipython3",
   "version": "3.9.13"
  }
 },
 "nbformat": 4,
 "nbformat_minor": 5
}
