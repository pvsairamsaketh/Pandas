{
 "cells": [
  {
   "cell_type": "markdown",
   "id": "c8f4e02e",
   "metadata": {},
   "source": [
    "# csv files"
   ]
  },
  {
   "cell_type": "markdown",
   "id": "68d13293",
   "metadata": {},
   "source": [
    "# creating csv file"
   ]
  }
 ],
 "metadata": {
  "kernelspec": {
   "display_name": "Python 3 (ipykernel)",
   "language": "python",
   "name": "python3"
  },
  "language_info": {
   "codemirror_mode": {
    "name": "ipython",
    "version": 3
   },
   "file_extension": ".py",
   "mimetype": "text/x-python",
   "name": "python",
   "nbconvert_exporter": "python",
   "pygments_lexer": "ipython3",
   "version": "3.9.13"
  }
 },
 "nbformat": 4,
 "nbformat_minor": 5
}
