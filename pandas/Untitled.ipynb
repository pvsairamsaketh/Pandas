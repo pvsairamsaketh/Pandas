{
 "cells": [
  {
   "cell_type": "code",
   "execution_count": 8,
   "id": "2942954b",
   "metadata": {},
   "outputs": [
    {
     "name": "stdout",
     "output_type": "stream",
     "text": [
      "    cars  passings\n",
      "0    BMW         3\n",
      "1  Volvo         7\n",
      "2   Ford         2\n",
      "\n",
      "   fruits  number\n",
      "0   Mango       1\n",
      "1   Apple       2\n",
      "2  Banana       3\n"
     ]
    }
   ],
   "source": [
    "import pandas\n",
    "\n",
    "mydataset = {\n",
    "  'cars': [\"BMW\", \"Volvo\", \"Ford\"],\n",
    "  'passings': [3, 7, 2]\n",
    "}\n",
    "\n",
    "myvar = pandas.DataFrame(mydataset)\n",
    "\n",
    "print(myvar)\n",
    "print()\n",
    "#own example\n",
    "dataset={\n",
    "    'fruits':[\"Mango\",\"Apple\",\"Banana\"],\n",
    "    'number':[1, 2, 3]\n",
    "}\n",
    "var=pandas.DataFrame(dataset)\n",
    "print(var)"
   ]
  },
  {
   "cell_type": "code",
   "execution_count": 12,
   "id": "32540887",
   "metadata": {},
   "outputs": [
    {
     "name": "stdout",
     "output_type": "stream",
     "text": [
      "     pens  priority\n",
      "0  Parker         1\n",
      "1  Trimax         2\n",
      "2   Jiffy         3\n",
      "<class 'pandas.core.frame.DataFrame'>\n"
     ]
    }
   ],
   "source": [
    "import pandas as pd\n",
    "dataset={\n",
    "    'pens':[\"Parker\",\"Trimax\",\"Jiffy\"],\n",
    "    'priority':[1,2,3]\n",
    "}\n",
    "var1=pd.DataFrame(dataset)\n",
    "print(var1)\n",
    "print(type(var1))"
   ]
  },
  {
   "cell_type": "code",
   "execution_count": 13,
   "id": "0c85ad1a",
   "metadata": {},
   "outputs": [
    {
     "name": "stdout",
     "output_type": "stream",
     "text": [
      "1.4.4\n"
     ]
    }
   ],
   "source": [
    "print(pd.__version__)"
   ]
  },
  {
   "cell_type": "markdown",
   "id": "70f200b8",
   "metadata": {},
   "source": [
    "# python series"
   ]
  },
  {
   "cell_type": "code",
   "execution_count": 16,
   "id": "be24e786",
   "metadata": {},
   "outputs": [
    {
     "name": "stdout",
     "output_type": "stream",
     "text": [
      "0    1\n",
      "1    2\n",
      "2    3\n",
      "3    4\n",
      "dtype: int64\n",
      "<class 'list'>\n",
      "\n",
      "0     9\n",
      "1    88\n",
      "2     7\n",
      "3     6\n",
      "dtype: int64\n",
      "<class 'pandas.core.series.Series'>\n",
      "\n",
      "9\n"
     ]
    }
   ],
   "source": [
    "import pandas as pd\n",
    "a=[1,2,3,4]\n",
    "print(pd.Series(a))\n",
    "print(type(a))\n",
    "print()\n",
    "b=[9,88,7,6]\n",
    "var1=pd.Series(b)\n",
    "print(var1)\n",
    "print(type(var1))\n",
    "print()\n",
    "#labels\n",
    "print(var1[0])\n",
    "print()\n",
    "#creating your own labels"
   ]
  },
  {
   "cell_type": "code",
   "execution_count": null,
   "id": "cb9b8d10",
   "metadata": {},
   "outputs": [],
   "source": []
  }
 ],
 "metadata": {
  "kernelspec": {
   "display_name": "Python 3 (ipykernel)",
   "language": "python",
   "name": "python3"
  },
  "language_info": {
   "codemirror_mode": {
    "name": "ipython",
    "version": 3
   },
   "file_extension": ".py",
   "mimetype": "text/x-python",
   "name": "python",
   "nbconvert_exporter": "python",
   "pygments_lexer": "ipython3",
   "version": "3.9.13"
  }
 },
 "nbformat": 4,
 "nbformat_minor": 5
}
