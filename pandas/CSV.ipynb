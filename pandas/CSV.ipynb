{
 "cells": [
  {
   "cell_type": "markdown",
   "id": "9f7e8431",
   "metadata": {},
   "source": [
    "# WRITING AND CREATING OF CSV"
   ]
  },
  {
   "cell_type": "code",
   "execution_count": 1,
   "id": "4be929f4",
   "metadata": {},
   "outputs": [
    {
     "name": "stdout",
     "output_type": "stream",
     "text": [
      "   a   b  c\n",
      "0  1   7  1\n",
      "1  2   8  2\n",
      "2  3   9  3\n",
      "3  4  10  4\n",
      "4  5  11  5\n",
      "5  6  12  6\n"
     ]
    }
   ],
   "source": [
    "import pandas as pd\n",
    "#step1 - create DataFrame\n",
    "\n",
    "dis={\"a\":[1,2,3,4,5,6],\n",
    "    \"b\":[7,8,9,10,11,12],\n",
    "     \"c\":[1,2,3,4,5,6]}\n",
    "d=pd.DataFrame(dis)\n",
    "print(d)\n",
    "\n",
    "#step2 - create csv file using .to_csv(\"name.csv\")\n",
    "d.to_csv(\"Employee Sample Data.csv\")\n",
    "#to remove row number\n",
    "d.to_csv(\"Employee Sample Data1.csv\",index=False)\n",
    "d.to_csv(\"Employee Sample Data2.csv\",index=False,header=[1,2,3])\n",
    "d.to_csv(\"Employee Sample Data3.csv\",index=False,header=[\"p\",\"q\",\"r\"])"
   ]
  },
  {
   "cell_type": "markdown",
   "id": "9e103cbf",
   "metadata": {},
   "source": [
    "# READ AND CSV USING PANDAS"
   ]
  },
  {
   "cell_type": "code",
   "execution_count": null,
   "id": "71a1dcb7",
   "metadata": {},
   "outputs": [],
   "source": []
  }
 ],
 "metadata": {
  "kernelspec": {
   "display_name": "Python 3 (ipykernel)",
   "language": "python",
   "name": "python3"
  },
  "language_info": {
   "codemirror_mode": {
    "name": "ipython",
    "version": 3
   },
   "file_extension": ".py",
   "mimetype": "text/x-python",
   "name": "python",
   "nbconvert_exporter": "python",
   "pygments_lexer": "ipython3",
   "version": "3.9.13"
  }
 },
 "nbformat": 4,
 "nbformat_minor": 5
}
